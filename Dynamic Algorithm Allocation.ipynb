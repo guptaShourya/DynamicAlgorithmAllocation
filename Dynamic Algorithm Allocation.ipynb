{
 "cells": [
  {
   "cell_type": "code",
   "execution_count": 1,
   "metadata": {},
   "outputs": [],
   "source": [
    "import numpy as np\n",
    "import pandas as pd\n",
    "import matplotlib.pyplot as plt\n",
    "from sklearn.datasets import make_blobs\n",
    "from sklearn.cluster import KMeans\n",
    "from sklearn.metrics import silhouette_score\n",
    "from sklearn.preprocessing import StandardScaler"
   ]
  },
  {
   "cell_type": "code",
   "execution_count": 2,
   "metadata": {},
   "outputs": [],
   "source": [
    "# x = 10 * (np.random.randn(10000, 6) + 5)\n",
    "# df = pd.DataFrame(x)\n",
    "# df.to_csv('dataos', index = False)"
   ]
  },
  {
   "cell_type": "markdown",
   "metadata": {},
   "source": [
    "# Reading Data"
   ]
  },
  {
   "cell_type": "code",
   "execution_count": 3,
   "metadata": {},
   "outputs": [
    {
     "data": {
      "text/html": [
       "<div>\n",
       "<style scoped>\n",
       "    .dataframe tbody tr th:only-of-type {\n",
       "        vertical-align: middle;\n",
       "    }\n",
       "\n",
       "    .dataframe tbody tr th {\n",
       "        vertical-align: top;\n",
       "    }\n",
       "\n",
       "    .dataframe thead th {\n",
       "        text-align: right;\n",
       "    }\n",
       "</style>\n",
       "<table border=\"1\" class=\"dataframe\">\n",
       "  <thead>\n",
       "    <tr style=\"text-align: right;\">\n",
       "      <th></th>\n",
       "      <th>0</th>\n",
       "      <th>1</th>\n",
       "      <th>2</th>\n",
       "      <th>3</th>\n",
       "      <th>4</th>\n",
       "      <th>5</th>\n",
       "    </tr>\n",
       "  </thead>\n",
       "  <tbody>\n",
       "    <tr>\n",
       "      <th>0</th>\n",
       "      <td>43.166903</td>\n",
       "      <td>58.718697</td>\n",
       "      <td>41.032990</td>\n",
       "      <td>36.813743</td>\n",
       "      <td>48.054657</td>\n",
       "      <td>32.861142</td>\n",
       "    </tr>\n",
       "    <tr>\n",
       "      <th>1</th>\n",
       "      <td>63.405139</td>\n",
       "      <td>38.475555</td>\n",
       "      <td>46.959653</td>\n",
       "      <td>62.177255</td>\n",
       "      <td>54.139206</td>\n",
       "      <td>35.515548</td>\n",
       "    </tr>\n",
       "    <tr>\n",
       "      <th>2</th>\n",
       "      <td>43.383314</td>\n",
       "      <td>54.913253</td>\n",
       "      <td>59.423708</td>\n",
       "      <td>50.213834</td>\n",
       "      <td>63.071390</td>\n",
       "      <td>57.350234</td>\n",
       "    </tr>\n",
       "    <tr>\n",
       "      <th>3</th>\n",
       "      <td>57.965827</td>\n",
       "      <td>48.424017</td>\n",
       "      <td>38.822193</td>\n",
       "      <td>48.820220</td>\n",
       "      <td>55.127105</td>\n",
       "      <td>58.293719</td>\n",
       "    </tr>\n",
       "    <tr>\n",
       "      <th>4</th>\n",
       "      <td>47.922869</td>\n",
       "      <td>65.755346</td>\n",
       "      <td>44.715162</td>\n",
       "      <td>52.439051</td>\n",
       "      <td>46.796753</td>\n",
       "      <td>41.939670</td>\n",
       "    </tr>\n",
       "    <tr>\n",
       "      <th>...</th>\n",
       "      <td>...</td>\n",
       "      <td>...</td>\n",
       "      <td>...</td>\n",
       "      <td>...</td>\n",
       "      <td>...</td>\n",
       "      <td>...</td>\n",
       "    </tr>\n",
       "    <tr>\n",
       "      <th>9995</th>\n",
       "      <td>40.690333</td>\n",
       "      <td>69.204556</td>\n",
       "      <td>62.528358</td>\n",
       "      <td>39.451800</td>\n",
       "      <td>44.426375</td>\n",
       "      <td>48.432218</td>\n",
       "    </tr>\n",
       "    <tr>\n",
       "      <th>9996</th>\n",
       "      <td>69.726958</td>\n",
       "      <td>69.700295</td>\n",
       "      <td>47.599961</td>\n",
       "      <td>58.841117</td>\n",
       "      <td>40.155433</td>\n",
       "      <td>36.877908</td>\n",
       "    </tr>\n",
       "    <tr>\n",
       "      <th>9997</th>\n",
       "      <td>59.198932</td>\n",
       "      <td>44.826405</td>\n",
       "      <td>68.397843</td>\n",
       "      <td>39.578169</td>\n",
       "      <td>54.114194</td>\n",
       "      <td>39.662965</td>\n",
       "    </tr>\n",
       "    <tr>\n",
       "      <th>9998</th>\n",
       "      <td>45.472568</td>\n",
       "      <td>61.623647</td>\n",
       "      <td>38.795597</td>\n",
       "      <td>45.211868</td>\n",
       "      <td>43.755981</td>\n",
       "      <td>49.995000</td>\n",
       "    </tr>\n",
       "    <tr>\n",
       "      <th>9999</th>\n",
       "      <td>59.265247</td>\n",
       "      <td>26.537457</td>\n",
       "      <td>55.877135</td>\n",
       "      <td>47.355482</td>\n",
       "      <td>52.751675</td>\n",
       "      <td>57.131042</td>\n",
       "    </tr>\n",
       "  </tbody>\n",
       "</table>\n",
       "<p>10000 rows × 6 columns</p>\n",
       "</div>"
      ],
      "text/plain": [
       "              0          1          2          3          4          5\n",
       "0     43.166903  58.718697  41.032990  36.813743  48.054657  32.861142\n",
       "1     63.405139  38.475555  46.959653  62.177255  54.139206  35.515548\n",
       "2     43.383314  54.913253  59.423708  50.213834  63.071390  57.350234\n",
       "3     57.965827  48.424017  38.822193  48.820220  55.127105  58.293719\n",
       "4     47.922869  65.755346  44.715162  52.439051  46.796753  41.939670\n",
       "...         ...        ...        ...        ...        ...        ...\n",
       "9995  40.690333  69.204556  62.528358  39.451800  44.426375  48.432218\n",
       "9996  69.726958  69.700295  47.599961  58.841117  40.155433  36.877908\n",
       "9997  59.198932  44.826405  68.397843  39.578169  54.114194  39.662965\n",
       "9998  45.472568  61.623647  38.795597  45.211868  43.755981  49.995000\n",
       "9999  59.265247  26.537457  55.877135  47.355482  52.751675  57.131042\n",
       "\n",
       "[10000 rows x 6 columns]"
      ]
     },
     "execution_count": 3,
     "metadata": {},
     "output_type": "execute_result"
    }
   ],
   "source": [
    "df = pd.read_csv('xyz')\n",
    "df"
   ]
  },
  {
   "cell_type": "markdown",
   "metadata": {},
   "source": [
    "# Applying K - Means Clustering Algorithm"
   ]
  },
  {
   "cell_type": "code",
   "execution_count": 4,
   "metadata": {},
   "outputs": [],
   "source": [
    "alg = KMeans(n_clusters = 4, n_init = 20, max_iter = 1000)"
   ]
  },
  {
   "cell_type": "code",
   "execution_count": 5,
   "metadata": {},
   "outputs": [],
   "source": [
    "# df = df.sample(frac = 1)\n",
    "cls_labels = alg.fit_predict(df)"
   ]
  },
  {
   "cell_type": "markdown",
   "metadata": {},
   "source": [
    "# Scheduling Algorithms"
   ]
  },
  {
   "cell_type": "markdown",
   "metadata": {},
   "source": [
    "## Shortest Job First"
   ]
  },
  {
   "cell_type": "code",
   "execution_count": 6,
   "metadata": {},
   "outputs": [],
   "source": [
    "def SJF(BurstTimes):\n",
    "    n = len(BurstTimes)\n",
    "    wt = np.array([0]*n)\n",
    "    tat = np.array([0]*n)\n",
    "    BurstTimes.sort()\n",
    "    wt[0] = 0\n",
    "    tat[0] =  BurstTimes[0]\n",
    "    for i in range(1,n):\n",
    "        wt[i] = wt[i-1] + BurstTimes[i-1]\n",
    "        tat[i] = tat[i-1] + BurstTimes[i]\n",
    "    #return (np.mean(np.array(wt)), np.mean(np.array(tat)), len(BurstTimes)/tat[-1], tat[-1])\n",
    "    return(len(BurstTimes)/tat[-1], tat[-1])"
   ]
  },
  {
   "cell_type": "markdown",
   "metadata": {},
   "source": [
    "## Highest Response Ratio Next"
   ]
  },
  {
   "cell_type": "code",
   "execution_count": 7,
   "metadata": {},
   "outputs": [],
   "source": [
    "def HRRN(BurstTimes):\n",
    "    lim = sum(BurstTimes)\n",
    "    t = 0\n",
    "    n = len(BurstTimes)\n",
    "    completed = [0]*n\n",
    "    wt = [0]*n\n",
    "    tat = [0]*n\n",
    "    while(t < lim):\n",
    "        hrr = -99999\n",
    "        for i in range(n):\n",
    "            if(completed[i] == 0):\n",
    "                temp = (BurstTimes[i]+t)/BurstTimes[i]\n",
    "                if(hrr < temp):\n",
    "                    hrr = temp\n",
    "                    loc = i\n",
    "        t+=BurstTimes[loc]\n",
    "        completed[loc] = 1\n",
    "        wt[loc] = t - BurstTimes[loc]\n",
    "        tat[loc] = t\n",
    "#     return (np.mean(np.array(wt)), np.mean(np.array(tat)), len(BurstTimes)/t, tat[-1])\n",
    "    return(len(BurstTimes)/tat[-1], tat[-1])"
   ]
  },
  {
   "cell_type": "markdown",
   "metadata": {},
   "source": [
    "## Round Robin"
   ]
  },
  {
   "cell_type": "code",
   "execution_count": 8,
   "metadata": {},
   "outputs": [],
   "source": [
    "def findWaitingTime(n, bt, wt, quantum, start_time): \n",
    "    rem_bt = [0] * n\n",
    "    for i in range(n): \n",
    "        rem_bt[i] = bt[i]\n",
    "    t = start_time\n",
    "    while(1):\n",
    "        done = True\n",
    "        for i in range(n):\n",
    "            if (rem_bt[i] > 0) :\n",
    "                done = False\n",
    "                if (rem_bt[i] > quantum) :\n",
    "                    t += quantum \n",
    "                    rem_bt[i] -= quantum \n",
    "                else:\n",
    "                    t = t + rem_bt[i] \n",
    "                    wt[i] = t - bt[i] \n",
    "                    rem_bt[i] = 0\n",
    "        if (done == True):\n",
    "            break\n",
    "    return t\n",
    "    \n",
    "def findTurnAroundTime(n, bt, wt, tat):\n",
    "    for i in range(n):\n",
    "        tat[i] = bt[i] + wt[i] \n",
    "    return\n",
    "\n",
    "def findavgTime(n, bt, quantum, start_time, wt, tat): \n",
    "    time_passed = findWaitingTime(n, bt, wt, quantum, start_time) \n",
    "    findTurnAroundTime(n, bt, wt, tat) \n",
    "    return time_passed"
   ]
  },
  {
   "cell_type": "code",
   "execution_count": 9,
   "metadata": {},
   "outputs": [],
   "source": [
    "def StaticRR(BurstTimes):\n",
    "    n = len(BurstTimes)\n",
    "    wt = [0]*n\n",
    "    tat = [0]*n\n",
    "    findavgTime(n, BurstTimes, 10, 0, wt, tat)\n",
    "#     print(\"Average Waiting Time = %.5f\"%np.mean(np.array(wt)))\n",
    "#     print(\"Average Turn Around Time = %.5f\"%np.mean(np.array(tat)))\n",
    "#     return\n",
    "#     return (np.mean(np.array(wt)), np.mean(np.array(tat)), len(BurstTimes)/tat[-1], tat[-1])\n",
    "    return(len(BurstTimes)/tat[-1], tat[-1])"
   ]
  },
  {
   "cell_type": "markdown",
   "metadata": {},
   "source": [
    "## Priority Scheduling"
   ]
  },
  {
   "cell_type": "code",
   "execution_count": 10,
   "metadata": {},
   "outputs": [],
   "source": [
    "def findWaitingTime2(processes, n, wt):\n",
    "    wt[0] = 0\n",
    " \n",
    "    # calculating waiting time\n",
    "    for i in range(1, n):\n",
    "        wt[i] = processes[i - 1][0] + wt[i - 1]\n",
    "    return\n",
    " \n",
    "# Function to calculate turn around time\n",
    "def findTurnAroundTime2(processes, n, wt, tat):\n",
    "     \n",
    "    # Calculating turnaround time by\n",
    "    # adding bt[i] + wt[i]\n",
    "    for i in range(n):\n",
    "        tat[i] = processes[i][0] + wt[i]\n",
    "    return\n",
    " \n",
    "# Function to calculate average waiting\n",
    "# and turn-around times.\n",
    "def findavgTime2(processes, n):\n",
    "    wt = [0] * n\n",
    "    tat = [0] * n\n",
    " \n",
    "    # Function to find waiting time\n",
    "    # of all processes\n",
    "    findWaitingTime2(processes, n, wt)\n",
    " \n",
    "    # Function to find turn around time\n",
    "    # for all processes\n",
    "    findTurnAroundTime2(processes, n, wt, tat)\n",
    " \n",
    "    # Display processes along with all details\n",
    "    total_wt = 0\n",
    "    total_tat = 0\n",
    "    for i in range(n):\n",
    " \n",
    "        total_wt = total_wt + wt[i]\n",
    "        total_tat = total_tat + tat[i]\n",
    "    return (n/tat[-1], tat[-1])\n",
    " \n",
    "def PS(proc):\n",
    "     \n",
    "    # Sort processes by priority\n",
    "    proc = sorted(proc, key = lambda proc:proc[1],\n",
    "                                  reverse = True);\n",
    " \n",
    "    n = len(proc)\n",
    "    return findavgTime2(proc, n)"
   ]
  },
  {
   "cell_type": "markdown",
   "metadata": {},
   "source": [
    "# Assigning each cluster an algorthim based on Throughput"
   ]
  },
  {
   "cell_type": "code",
   "execution_count": 11,
   "metadata": {},
   "outputs": [],
   "source": [
    "cls_data = [[], [], [], []]\n",
    "j = 0\n",
    "for i in alg.labels_:\n",
    "    cls_data[i].append(np.array(df.loc[j]))\n",
    "    j+=1"
   ]
  },
  {
   "cell_type": "code",
   "execution_count": 12,
   "metadata": {},
   "outputs": [],
   "source": [
    "thru = [[]]\n",
    "for i in cls_data:\n",
    "    thru[-1].append(HRRN(np.array(i)[:, 2])[0])"
   ]
  },
  {
   "cell_type": "code",
   "execution_count": 13,
   "metadata": {},
   "outputs": [],
   "source": [
    "thru.append([])\n",
    "for i in cls_data:\n",
    "    thru[-1].append(StaticRR(np.array(i)[:, 2])[0])"
   ]
  },
  {
   "cell_type": "code",
   "execution_count": 14,
   "metadata": {},
   "outputs": [],
   "source": [
    "thru.append([])\n",
    "for i in cls_data:\n",
    "    thru[-1].append(PS(np.array(i)[:, 2:4])[0])"
   ]
  },
  {
   "cell_type": "code",
   "execution_count": 15,
   "metadata": {},
   "outputs": [],
   "source": [
    "thru.append([])\n",
    "for i in cls_data:\n",
    "    thru[-1].append(SJF(np.array(i)[:, 2])[0])"
   ]
  },
  {
   "cell_type": "code",
   "execution_count": 18,
   "metadata": {
    "scrolled": true
   },
   "outputs": [
    {
     "name": "stdout",
     "output_type": "stream",
     "text": [
      "Algorithm\tC1\tC2\tC3\tC4\n",
      "HRRN \t 0.103768 0.026192 0.019673 0.128257\n",
      "SRR \t 0.026311 0.021604 0.018344 0.020548\n",
      "PS \t 0.023276 0.021495 0.018304 0.018096\n",
      "SJF \t 0.023548 0.021730 0.018471 0.018260\n"
     ]
    }
   ],
   "source": [
    "print('Algorithm\\tC1\\tC2\\tC3\\tC4')\n",
    "algo = ['HRRN', 'SRR', 'PS', 'SJF']\n",
    "j = 0\n",
    "for i in thru:\n",
    "    print(algo[j],\"\\t %f %f %f %f\"% (i[0], i[1], i[2], i[3]))\n",
    "    j+=1"
   ]
  },
  {
   "cell_type": "markdown",
   "metadata": {},
   "source": [
    "## Observing the above data the following assignments are done : \n",
    "### C1 - SRR, C2 -  SJF, C3 - HRRN, C4 - PS"
   ]
  },
  {
   "cell_type": "code",
   "execution_count": 19,
   "metadata": {},
   "outputs": [],
   "source": [
    "relation = {2 : 'SJF', 3 : 'HRRN', 0 : 'SRR', 1 : 'PS'}"
   ]
  },
  {
   "cell_type": "code",
   "execution_count": 59,
   "metadata": {},
   "outputs": [
    {
     "name": "stdout",
     "output_type": "stream",
     "text": [
      "Hybrid \t\tSRR\tPS\tHRRN\t\tSJF\n",
      "0.025645     0.019883  0.019865   0.02397     0.020068\n"
     ]
    }
   ],
   "source": [
    "test = 10*(np.random.randn(100, 6)+5)\n",
    "# test = np.random.randint(low = 0, high = 100, size = (100, 6))\n",
    "# test = pd.read_csv('test.csv').to_numpy()\n",
    "pred = (alg.predict(test))\n",
    "\n",
    "queue = [[], [], [], []]\n",
    "for i in range(len(pred)):\n",
    "    queue[pred[i]].append(test[i])\n",
    "\n",
    "t = (SJF(np.array(queue[2])[:, 2])[-1]+HRRN(np.array(queue[3])[:, 2])[-1]+StaticRR(np.array(queue[0])[:, 2])[-1] +PS(np.array(queue[1])[:, 2 : 4])[-1])\n",
    "\n",
    "print(\"Hybrid \\t\\tSRR\\tPS\\tHRRN\\t\\tSJF\")\n",
    "print(round(100/t, 6), '   ',round(StaticRR(test[:, 2])[0], 6), '',round(PS(test[:, 2:4])[0], 6), ' ', round(HRRN(test[:, 2])[0], 6), '   ',round(SJF(test[:, 2])[0], 6))"
   ]
  },
  {
   "cell_type": "code",
   "execution_count": null,
   "metadata": {},
   "outputs": [],
   "source": []
  }
 ],
 "metadata": {
  "kernelspec": {
   "display_name": "Python 3",
   "language": "python",
   "name": "python3"
  },
  "language_info": {
   "codemirror_mode": {
    "name": "ipython",
    "version": 3
   },
   "file_extension": ".py",
   "mimetype": "text/x-python",
   "name": "python",
   "nbconvert_exporter": "python",
   "pygments_lexer": "ipython3",
   "version": "3.7.6"
  }
 },
 "nbformat": 4,
 "nbformat_minor": 4
}
